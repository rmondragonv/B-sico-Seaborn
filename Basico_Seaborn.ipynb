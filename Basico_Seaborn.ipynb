{
 "cells": [
  {
   "cell_type": "markdown",
   "metadata": {
    "id": "fb9pUStUq6xf"
   },
   "source": [
    "<img src = \"https://drive.google.com/uc?export=view&id=1XN22c7U27IGl71aGFywSHAuEfjH-PAam\" alt = \"Encabezado MLDS\" width = \"100%\">  </img>"
   ]
  },
  {
   "cell_type": "markdown",
   "metadata": {
    "id": "iOBugjpzfKzI"
   },
   "source": [
    "#**Quiz 8 : Visualización de datos estadísticos con *Seaborn***\n",
    "---\n",
    "\n",
    "Este es un quiz para practicar las habilidades adquiridas usando *Seaborn*  para construir visualizaciones de datos estadísticos. En esta actividad usted deberá recrear dos gráficas generadas usando *Seaborn* y sus conjuntos de datos.\n",
    "\n",
    "> **Nota:** Esta tarea va a ser calificada en la plataforma **[UNCode](https://juezun.github.io/)**. Para esto, en cada ejercicio se indicará si es calificable o no, también los lugares donde debe escribir su código sin modificar lo demás con un aproximado de cantidad de líneas a escribir. No se preocupe si su código toma más líneas, esto es simplemente un aproximado destinado a que pueda replantear su estrategia si el código está tomando más de las esperadas. No es un requisito estricto y soluciones más largas también son válidas. Al finalizar, para realizar el envío (*submission*), descargue el notebook como un archivo **`.ipynb`** y haga su entrega a través de **Moodle**."
   ]
  },
  {
   "cell_type": "markdown",
   "metadata": {
    "id": "Ggs5x9YqdQKB"
   },
   "source": [
    "Ejecute la siguiente celda para importar las librerías."
   ]
  },
  {
   "cell_type": "code",
   "execution_count": 2,
   "metadata": {
    "id": "weiA_rsqvelx"
   },
   "outputs": [],
   "source": [
    "# Importar librerías (EJECUTE ESTA CELDA)\n",
    "import numpy as np\n",
    "import pandas as pd\n",
    "import seaborn as sns\n",
    "import matplotlib as mpl\n",
    "import matplotlib.pyplot as plt\n",
    "%matplotlib inline"
   ]
  },
  {
   "cell_type": "code",
   "execution_count": 3,
   "metadata": {
    "id": "ssRStmbyRi-M"
   },
   "outputs": [
    {
     "name": "stdout",
     "output_type": "stream",
     "text": [
      "Python 3.7.3\n",
      "Pandas 0.24.2\n",
      "NumPy 1.16.2\n",
      "Seaborn 0.9.0\n",
      "Matplotlib 3.0.3\n"
     ]
    }
   ],
   "source": [
    "#TEST_CELL\n",
    "!python --version\n",
    "print('Pandas', pd.__version__)\n",
    "print('NumPy', np.__version__)\n",
    "print('Seaborn', sns.__version__)\n",
    "print('Matplotlib', mpl.__version__)"
   ]
  },
  {
   "cell_type": "code",
   "execution_count": 24,
   "metadata": {},
   "outputs": [
    {
     "data": {
      "text/html": [
       "<div>\n",
       "<style scoped>\n",
       "    .dataframe tbody tr th:only-of-type {\n",
       "        vertical-align: middle;\n",
       "    }\n",
       "\n",
       "    .dataframe tbody tr th {\n",
       "        vertical-align: top;\n",
       "    }\n",
       "\n",
       "    .dataframe thead th {\n",
       "        text-align: right;\n",
       "    }\n",
       "</style>\n",
       "<table border=\"1\" class=\"dataframe\">\n",
       "  <thead>\n",
       "    <tr style=\"text-align: right;\">\n",
       "      <th></th>\n",
       "      <th>sepal length (cm)</th>\n",
       "      <th>sepal width (cm)</th>\n",
       "      <th>petal length (cm)</th>\n",
       "      <th>petal width (cm)</th>\n",
       "      <th>species</th>\n",
       "    </tr>\n",
       "  </thead>\n",
       "  <tbody>\n",
       "    <tr>\n",
       "      <th>0</th>\n",
       "      <td>5.1</td>\n",
       "      <td>3.5</td>\n",
       "      <td>1.4</td>\n",
       "      <td>0.2</td>\n",
       "      <td>setosa</td>\n",
       "    </tr>\n",
       "    <tr>\n",
       "      <th>1</th>\n",
       "      <td>4.9</td>\n",
       "      <td>3.0</td>\n",
       "      <td>1.4</td>\n",
       "      <td>0.2</td>\n",
       "      <td>setosa</td>\n",
       "    </tr>\n",
       "  </tbody>\n",
       "</table>\n",
       "</div>"
      ],
      "text/plain": [
       "   sepal length (cm)  sepal width (cm)  petal length (cm)  petal width (cm)  \\\n",
       "0                5.1               3.5                1.4               0.2   \n",
       "1                4.9               3.0                1.4               0.2   \n",
       "\n",
       "  species  \n",
       "0  setosa  \n",
       "1  setosa  "
      ]
     },
     "execution_count": 24,
     "metadata": {},
     "output_type": "execute_result"
    }
   ],
   "source": [
    "#Data frame IRIS cargue\n",
    "url=\"https://raw.githubusercontent.com/JuezUN/datasets/master/iristarea.csv\"\n",
    "iris_original = pd.read_csv(url)\n",
    "iris1 = iris_original.rename(columns={'label':\"species\"})\n",
    "iris1.head(2)"
   ]
  },
  {
   "cell_type": "markdown",
   "metadata": {
    "id": "ROZNbg6fpLpu"
   },
   "source": [
    "Este material fue realizado con las siguientes versiones:\n",
    "\n",
    "- Python 3.7.10\n",
    "- Pandas: 1.1.5\n",
    "- NumPy: 1.19.5\n",
    "- Seaborn 0.11.1\n",
    "- Matplotlib: 3.2.2\n",
    "\n",
    "\n",
    "> **Nota:** Recuerde usar los alias y convenciones de la celda anterior en su código. UNCode no tendrá en cuenta librerías que importe en otras celdas y podrían afectar el tiempo de ejecución de los problemas. Estos son:\n",
    "  *  **Pandas**: **`pd`**\n",
    "  *  **NumPy**: **`np`**\n",
    "  *  **Seaborn**: **`sns`**\n",
    "  *  **Matplotlib Pyplot**: **`plt`**"
   ]
  },
  {
   "cell_type": "markdown",
   "metadata": {
    "id": "lJBP94784eRv"
   },
   "source": [
    "## **1. Longitud del sépalo de las flores *Iris***\n",
    "---\n",
    "\n",
    "Su tarea es recrear la siguiente gráfica, que compara la distribución de las medidas de longitud de los sépalos de las flores del *dataset* ***Iris***:\n",
    "\n",
    "![longitud sépalos](https://drive.google.com/uc?export=view&id=17-g2NdOUlblRU0z4n2dvSmrTJUdkyyY2)\n",
    "\n",
    "Para este ejercicio deberá utilizar el conjunto de datos **`iris`** que hace parte del repositorio de *Seaborn* para realizar la visualización. \n",
    "\n",
    "Utilice lo aprendido en la guía de *Seaborn* para personalizar el llamado de la función. En este ejercicio deberá:\n",
    "\n",
    "  * Seleccionar el tipo de visualización adecuadamente.\n",
    "  * Definir las variables del eje $x$ y $y$ que serán utilizadas para construir la visualización.\n",
    "  * Utilizar la paleta de color **`rainbow`** en la construcción de la visualización.\n",
    "  * Almacenar el resultado de su visualización en la variable **`plot1`**. Esta será la variable calificada.\n",
    "\n",
    "> **NOTA: Los comandos para graficar una figura deberían ir todos en la misma celda. Separarlos en celdas distintas puede causar que no se grafique nada.**\n"
   ]
  },
  {
   "cell_type": "markdown",
   "metadata": {
    "id": "bxXEhA0M50bq"
   },
   "source": [
    "<details>    \n",
    "<summary>\n",
    "    <font size=\"3\" color=\"darkgreen\"><b>Pistas</b></font>\n",
    "</summary>\n",
    "\n",
    "\n",
    "* El *DataFrame* **iris** se ha cargado previamente usando la función **`load_dataset`** de *Seaborn*. No modifique este objeto.\n",
    "* No modifique el siguiente fragmento de código. En él se configuran los estilos predefinidos para la visualización y se carga el conjunto de datos.\n",
    "```python\n",
    "sns.set_context('notebook')\n",
    "iris = sns.load_dataset('iris', data_home='./')\n",
    "```\n",
    "* Construya su visualización haciendo el llamado a la función de visualización correspondiente y guarde su resultado en la variable **`plot1`**, de la siguiente forma:\n",
    "```python\n",
    "plot1 = sns....\n",
    "```\n",
    "* Consulte la guía de *Seaborn* si tiene dudas sobre cómo cumplir con alguno de los requerimientos.\n",
    "\n"
   ]
  },
  {
   "cell_type": "code",
   "execution_count": 34,
   "metadata": {
    "id": "6yfYFLZC87yN"
   },
   "outputs": [
    {
     "data": {
      "image/png": "[encoded data removed]",
      "text/plain": [
       "<Figure size 432x288 with 1 Axes>"
      ]
     },
     "metadata": {
      "needs_background": "light"
     },
     "output_type": "display_data"
    }
   ],
   "source": [
    "#VARIABLE CALIFICADA: plot1\n",
    "\n",
    "sns.set_context('notebook')     # Se define el estilo de la visualización.\n",
    "### No modificar la siguiente instrucción para cargar el dataset ###\n",
    "iris = sns.load_dataset('iris', data_home='./') # DataFrame con el conjunto de datos \"iris\".\n",
    "### ESCRIBA SU CÓDIGO AQUÍ ### (~ 1 línea de código)\n",
    "plot1 = sns.boxplot(x=\"species\", y=\"sepal_length\", data=iris, palette=\"rainbow\")\n",
    "### FIN DEL CÓDIGO ###"
   ]
  },
  {
   "cell_type": "markdown",
   "metadata": {
    "id": "B60whwkMgegZ"
   },
   "source": [
    "**Salida esperada:**\n",
    "\n",
    "![longitud sépalos](https://drive.google.com/uc?export=view&id=17-g2NdOUlblRU0z4n2dvSmrTJUdkyyY2)"
   ]
  },
  {
   "cell_type": "code",
   "execution_count": null,
   "metadata": {
    "id": "TqwlzB_EKd4S"
   },
   "outputs": [],
   "source": [
    "# NO ELIMINAR - NECESARIO PARA LA CORRECTA CALIFICACIÓN\n",
    "plot1.get_figure().show()\n",
    "plt.close()"
   ]
  },
  {
   "cell_type": "markdown",
   "metadata": {
    "id": "byzcBL1GwL19"
   },
   "source": [
    "## **2. Cuarteto de *Anscombe***\n",
    "---\n",
    "\n",
    "Su tarea es recrear el conocido ***Cuarteto de Anscombe*** con el método **`lmplot`** para representar una regresión lineal en cada grupo de datos. \n",
    "Para este ejercicio deberá utilizar el conjunto de datos **`anscombe`**, parte del repositorio de *Seaborn* para realizar la siguiente visualización:\n",
    "\n",
    "![anscombes lmplots](https://drive.google.com/uc?export=view&id=1AxAzbsAveGrnhK5pA9_ZgU9Yv-8rGni-)\n",
    "\n",
    "Utilice lo aprendido en la guía de *Seaborn* para personalizar el llamado al método **`lmplot`**. En este ejercicio deberá tener en cuenta:\n",
    "  * Las variables del eje $x$ y $y$.\n",
    "  * La variable categórica sobre la cual generar las columnas. \n",
    "  * La variable categórica sobre la cual definir el tono de color en las figuras. Utilice la paleta de color **`viridis`**.\n",
    "  * Almacene el resultado de su visualización en la variable **`plot2`**. Esta será la variable calificada.\n",
    "\n",
    "> **NOTA: Los comandos para graficar una figura deberían ir todos en la misma celda. Separarlos en celdas distintas puede causar que no se grafique nada.**"
   ]
  },
  {
   "cell_type": "markdown",
   "metadata": {
    "id": "RzDe0TeGHlra"
   },
   "source": [
    "<details>    \n",
    "<summary>\n",
    "    <font size=\"3\" color=\"darkgreen\"><b>Pistas</b></font>\n",
    "</summary>\n",
    "\n",
    "\n",
    "* El *DataFrame* **anscombe** se ha cargado previamente usando la función **`load_dataset`** de *Seaborn*. No modifique este objeto.\n",
    "* El grupo o *dataset* de los datos es usado tanto para determinar su tono de color como definir la columna a la que pertenece. Deberá indicar los dos detalles con argumentos distintos.\n",
    "* No modifique el siguiente fragmento de código. En él se configuran los estilos predefinidos para la visualización y se carga el conjunto de datos.\n",
    "```python\n",
    "sns.set_context('notebook')\n",
    "anscombe = sns.load_dataset('anscombe', data_home='./')\n",
    "```\n",
    "\n",
    "* Construya su visualización haciendo el llamado a la función correspondiente y guarde su resultado en la variable **`plot2`**, de la siguiente forma:\n",
    "```python\n",
    "plot2 = sns.lmplot(...\n",
    "```\n",
    "* Consulte la guía de referencia de *Seaborn* si tiene alguna duda.\n",
    "\n"
   ]
  },
  {
   "cell_type": "code",
   "execution_count": 54,
   "metadata": {
    "id": "9369my6_0zb7"
   },
   "outputs": [
    {
     "data": {
      "image/png": "[encoded data removed]",
      "text/plain": [
       "<Figure size 1440x360 with 4 Axes>"
      ]
     },
     "metadata": {
      "needs_background": "light"
     },
     "output_type": "display_data"
    }
   ],
   "source": [
    "#VARIABLE CALIFICADA: plot2\n",
    "sns.set_context('notebook') # Se define el estilo de la visualización.\n",
    "### No modificar la siguiente instrucción para cargar el dataset ###\n",
    "anscombe = sns.load_dataset('anscombe', data_home='./') # DataFrame con el conjuto de datos \"anscombe\".\n",
    "#anscombe.info()\n",
    "### ESCRIBA SU CÓDIGO AQUÍ ### (~ 1 línea de código)\n",
    "plot2 = sns.lmplot(x=\"x\", y=\"y\", hue=\"dataset\", col=\"dataset\",\n",
    "               data=anscombe, palette=\"viridis\")\n",
    "### FIN DEL CÓDIGO ###"
   ]
  },
  {
   "cell_type": "markdown",
   "metadata": {
    "id": "aMIvTnIBgQb6"
   },
   "source": [
    "**Salida esperada:**\n",
    "\n",
    "![anscombes lmplots](https://drive.google.com/uc?export=view&id=1AxAzbsAveGrnhK5pA9_ZgU9Yv-8rGni-)"
   ]
  },
  {
   "cell_type": "code",
   "execution_count": null,
   "metadata": {
    "id": "3LyQs5Y0gc5m"
   },
   "outputs": [],
   "source": [
    "# NO ELIMINAR - NECESARIO PARA LA CORRECTA CALIFICACIÓN\n",
    "plot2.fig.show()\n",
    "plt.close()"
   ]
  },
  {
   "cell_type": "markdown",
   "metadata": {
    "id": "RQPCegADca1n"
   },
   "source": [
    "**¡Felicitaciones!** Ha terminado el quiz. ¡Buen trabajo!\n",
    "\n",
    "## **Entrega**\n",
    "\n",
    "Para entregar el notebook por favor haga lo siguiente:\n",
    "1. Descargue el notebook (`Archivo` -> `Descargar .ipynb`).\n",
    "2. Ingrese a Moodle.\n",
    "3. Realice el envío del *notebook* que descargó en la tarea (o quiz) correspondiente.\n",
    "4. Recuerde que si tiene algún error, puede hacer múltiples intentos de envío en UNCode. "
   ]
  },
  {
   "cell_type": "markdown",
   "metadata": {
    "id": "IugPnmmJgtLd"
   },
   "source": [
    "## **Créditos**\n",
    "---\n",
    "\n",
    "* **Profesor:** [Felipe Restrepo Calle](https://dis.unal.edu.co/~ferestrepoca/)\n",
    "* **Asistente docente:** Alberto Nicolai Romero Martínez\n",
    "\n",
    "**Universidad Nacional de Colombia** - *Facultad de Ingeniería*\n"
   ]
  }
 ],
 "metadata": {
  "colab": {
   "collapsed_sections": [],
   "name": "Quiz_8_Seaborn.ipynb",
   "provenance": []
  },
  "kernelspec": {
   "display_name": "Python 3",
   "language": "python",
   "name": "python3"
  },
  "language_info": {
   "codemirror_mode": {
    "name": "ipython",
    "version": 3
   },
   "file_extension": ".py",
   "mimetype": "text/x-python",
   "name": "python",
   "nbconvert_exporter": "python",
   "pygments_lexer": "ipython3",
   "version": "3.7.3"
  }
 },
 "nbformat": 4,
 "nbformat_minor": 1
}
